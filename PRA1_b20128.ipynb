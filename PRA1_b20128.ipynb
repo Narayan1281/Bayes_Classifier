{
  "cells": [
    {
      "cell_type": "markdown",
      "metadata": {
        "id": "WsaLkgZnh-vz"
      },
      "source": [
        "# <center>**Question 1**\n",
        "\n",
        "\n",
        "\n",
        "---\n",
        "\n",
        "\n",
        "\n"
      ]
    },
    {
      "cell_type": "code",
      "execution_count": null,
      "metadata": {
        "colab": {
          "base_uri": "https://localhost:8080/"
        },
        "id": "8WTs5fU-iClb",
        "outputId": "d0e2310c-8b45-4dcc-9584-3231633115f2"
      },
      "outputs": [
        {
          "output_type": "stream",
          "name": "stdout",
          "text": [
            "Drive already mounted at /content/drive; to attempt to forcibly remount, call drive.mount(\"/content/drive\", force_remount=True).\n"
          ]
        }
      ],
      "source": [
        "from google.colab import drive\n",
        "drive.mount(\"/content/drive\")"
      ]
    },
    {
      "cell_type": "markdown",
      "source": [],
      "metadata": {
        "id": "hnsY26qlpWPk"
      }
    },
    {
      "cell_type": "code",
      "execution_count": null,
      "metadata": {
        "id": "wdXRcXwyjYPv"
      },
      "outputs": [],
      "source": [
        "\n",
        "import numpy as np\n",
        "import pandas as pd\n",
        "import matplotlib.pyplot as plt\n"
      ]
    },
    {
      "cell_type": "code",
      "execution_count": null,
      "metadata": {
        "id": "fh_vJeomkBjJ"
      },
      "outputs": [],
      "source": [
        "# path for q1\n",
        "path_q1 = \"/content/drive/MyDrive/Pattern Recognition/Assignment_1/q1\""
      ]
    },
    {
      "cell_type": "code",
      "execution_count": null,
      "metadata": {
        "id": "FVHzmCqXlsee"
      },
      "outputs": [],
      "source": [
        "#   Segment2_cafe_noise2.wav\n",
        "#   Segment2_MelEnergy.csv\n",
        "#   Segment2_STEnergy.csv\n",
        "#   Segment2_VAD_GT.csv\n",
        "#   Segment3_cafe_noise1.wav\n",
        "#   Segment3_MelEnergy.csv\n",
        "#   Segment3_STEnergy.csv\n",
        "#   Segment3_VAD_GT.csv\n",
        "\n",
        "\n",
        "\n",
        "\n",
        "# reading training data and test data\n",
        "st_train = pd.read_csv(path_q1 +\"/Segment2_STEnergy.csv\", header=None) \n",
        "mel_train = pd.read_csv(path_q1 + \"/Segment2_MelEnergy.csv\", header=None)\n",
        "vad_train = pd.read_csv(path_q1 + \"/Segment2_VAD_GT.csv\", header=None) #label for each data\n",
        "# \n",
        "st_test = pd.read_csv(path_q1 +\"/Segment3_STEnergy.csv\", header=None)\n",
        "mel_test = pd.read_csv(path_q1 + \"/Segment3_MelEnergy.csv\", header=None)\n",
        "vad_test = pd.read_csv(path_q1 + \"/Segment3_VAD_GT.csv\", header=None) # label for test data"
      ]
    },
    {
      "cell_type": "code",
      "execution_count": null,
      "metadata": {
        "id": "5snSEziQnQ6Z"
      },
      "outputs": [],
      "source": [
        "# combine the training data into a single DataFrame and test data into another single DataFrame\n",
        "df_train = pd.DataFrame({'st':st_train[0], 'mel' : mel_train[0], 'gt':vad_train[0]})\n",
        "df_test = pd.DataFrame({'st':st_test[0], 'mel' : mel_test[0], 'gt':vad_test[0]})\n"
      ]
    },
    {
      "cell_type": "code",
      "execution_count": null,
      "metadata": {
        "id": "fdygDsf7nTwd"
      },
      "outputs": [],
      "source": [
        "# function to calculate mean variance and number of data in each class\n",
        "# of a Dataframe\n",
        "def central_tendencies(df, train, label):\n",
        "  # df --> dataFrame, train-> column which central tendency is to be found, label -> column on which grouping is performend\n",
        "  mean_0 = df.groupby(label).get_group(0)[train].mean()\n",
        "  var_0 = df.groupby(label).get_group(0)[train].var()\n",
        "\n",
        "  mean_1 = df.groupby(label).get_group(1)[train].mean()\n",
        "  var_1 = df.groupby(label).get_group(1)[train].var()\n",
        "\n",
        "  len_0 = len(df.groupby(label).get_group(0))\n",
        "  len_1 = len(df.groupby(label).get_group(1))\n",
        "  return len_0, mean_0, var_0, len_1, mean_1, var_1\n",
        "\n",
        "# print(central_tendencies(df_train,\"st\",\"gt\"))\n",
        "\n",
        "  "
      ]
    },
    {
      "cell_type": "code",
      "execution_count": null,
      "metadata": {
        "id": "mYnt2fL0sKk_"
      },
      "outputs": [],
      "source": [
        "def likelihood_of_class(x,mean,var):\n",
        "  # essentially we are calculating class conditional density here\n",
        "  # p(x|Ci) where x is a data point, Ci is a class with mean and var as central tendency\n",
        "  return np.exp(-(np.square(x-mean)/(2*var)))/np.sqrt(2*np.pi*var)\n"
      ]
    },
    {
      "cell_type": "code",
      "execution_count": null,
      "metadata": {
        "id": "N6drs6wfxLVV"
      },
      "outputs": [],
      "source": [
        "def classifier(df_train, df_test, parameter):\n",
        "  #  df_train -> training data\n",
        "  #  df_test -> testing data\n",
        "  #  parameter -> based on this attribute classification of data points will be done\n",
        "  cols = df_train.columns\n",
        "  \n",
        "  len_0, mean_0, var_0, len_1, mean_1, var_1 = central_tendencies(df_train, parameter, cols[2])\n",
        "  # calculating prior probabilities of the two classes\n",
        "  prob_0 = len_0/(len_0+len_1)\n",
        "  prob_1 = len_1/(len_0 + len_1)\n",
        "  y_pred = []\n",
        "  for i in range(len(df_test)):\n",
        "    p0 = prob_0*likelihood_of_class(df_test[parameter][i],mean_0, var_0)\n",
        "    p1 = prob_1*likelihood_of_class(df_test[parameter][i],mean_1, var_1)\n",
        "    total_prob_xi = p0 + p1\n",
        "    # assigning class to the test data points based on posterior probability\n",
        "    if p0 > p1:\n",
        "      y_pred.append(0)\n",
        "    else:\n",
        "      y_pred.append(1)\n",
        "  correct_pred = 0\n",
        "  for i in range(len(y_pred)):\n",
        "    if y_pred[i] == df_test['gt'][i]:\n",
        "      correct_pred += 1;\n",
        "  # returns accuracy of the classification\n",
        "  return (correct_pred/len(df_test))*100\n",
        "  "
      ]
    },
    {
      "cell_type": "code",
      "execution_count": null,
      "metadata": {
        "colab": {
          "base_uri": "https://localhost:8080/"
        },
        "id": "m1njW-an6AiR",
        "outputId": "1ea17e6f-4006-4c9c-b821-4b5e41ce6191"
      },
      "outputs": [
        {
          "output_type": "stream",
          "name": "stdout",
          "text": [
            "accuracy of bayes classifier based on STEnergy is : 56.727%\n",
            "accuracy of bayes classifier based on MelEnergy is : 62.545%\n"
          ]
        }
      ],
      "source": [
        "print(f\"accuracy of bayes classifier based on STEnergy is : {classifier(df_train,df_test,'st') :.3f}%\")\n",
        "print(f\"accuracy of bayes classifier based on MelEnergy is : {classifier(df_train,df_test,'mel') :.3f}%\")"
      ]
    },
    {
      "cell_type": "code",
      "execution_count": null,
      "metadata": {
        "id": "7PEJbPAO6ENF"
      },
      "outputs": [],
      "source": [
        "# function to calculate FPR and TPR\n",
        "def fpr_tpr(df_train, df_test, parameter, threshold, Class):\n",
        "  #  df_train -> training data\n",
        "  #  df_test -> testing data\n",
        "  #  parameter -> based on this attribute classification of data points will be done\n",
        "  # th-> threshold probability \n",
        "  # Class-> 0 : consider 0 as positive class, 1: consider 1 as positive class for fpr and tpr\n",
        "  cols = df_train.columns\n",
        "  \n",
        "  len_0, mean_0, var_0, len_1, mean_1, var_1 = central_tendencies(df_train, parameter, cols[2])\n",
        "  # calculating prior probabilities of the two classes\n",
        "  prob_0 = len_0/(len_0+len_1)\n",
        "  prob_1 = len_1/(len_0 + len_1)\n",
        "  y_pred = []\n",
        "  for i in range(len(df_test)):\n",
        "    p0 = prob_0*likelihood_of_class(df_test[parameter][i],mean_0, var_0)\n",
        "    p1 = prob_1*likelihood_of_class(df_test[parameter][i],mean_1, var_1)\n",
        "    total_prob_xi = p0 + p1\n",
        "    # assigning class to the test data points based on posterior probability\n",
        "    if(Class==0):\n",
        "      if p0/total_prob_xi >= threshold:\n",
        "        y_pred.append(0)\n",
        "      else:\n",
        "        y_pred.append(1)\n",
        "    elif(Class==1):\n",
        "      if p1 >= threshold:\n",
        "        y_pred.append(1)\n",
        "      else:\n",
        "        y_pred.append(0)\n",
        "    \n",
        "  # fp -> false positive ; fn->false negative\n",
        "  # tp-> true positive    ; tn -> true negative\n",
        "  fp = 0\n",
        "  tp = 0\n",
        "  fn = 0\n",
        "  tn = 0\n",
        "  for i in range(len(y_pred)):\n",
        "      if df_test['gt'][i] == 0 and y_pred[i] == 0:\n",
        "        tp += 1\n",
        "      elif df_test['gt'][i] == 1 and y_pred[i] == 1:\n",
        "        tn += 1\n",
        "      elif df_test['gt'][i] == 0 and y_pred[i] == 1:\n",
        "        fn += 1\n",
        "      else:\n",
        "        fp += 1\n",
        "      \n",
        "  FPR = fp/(fp + tn)\n",
        "  TPR = tp/(tp + fn)\n",
        "  return FPR, TPR"
      ]
    },
    {
      "cell_type": "code",
      "execution_count": null,
      "metadata": {
        "colab": {
          "base_uri": "https://localhost:8080/",
          "height": 295
        },
        "id": "O0cMA3VtUjBq",
        "outputId": "9fa66ad4-a99c-4ae3-f5ae-72caccaccdd9"
      },
      "outputs": [
        {
          "output_type": "display_data",
          "data": {
            "text/plain": [
              "<Figure size 432x288 with 1 Axes>"
            ],
            "image/png": "[encoded data removed]"
          },
          "metadata": {
            "needs_background": "light"
          }
        }
      ],
      "source": [
        "# Plot the ROC Curve\n",
        "# Curve between TPR and FPR\n",
        "thresholds = np.linspace(0,1,1000)\n",
        "# lists to store tpr and fpr of st\n",
        "false_pos_st = []\n",
        "true_pos_st = []\n",
        "# \n",
        "false_pos_mel = []\n",
        "true_pos_mel = []\n",
        "for i in range(len(thresholds)):\n",
        "  # short-time-Energy\n",
        "  curr_fpr, curr_tpr = fpr_tpr(df_train, df_test, 'st', thresholds[i],0)\n",
        "  false_pos_st.append(curr_fpr)\n",
        "  true_pos_st.append(curr_tpr)\n",
        "\n",
        "  # MEL Energy\n",
        "  curr_fpr1, curr_tpr1 = fpr_tpr(df_train, df_test, 'mel', thresholds[i],0)\n",
        "  false_pos_mel.append(curr_fpr1)\n",
        "  true_pos_mel.append(curr_tpr1)\n",
        "# Plotting the curve\n",
        "\n",
        "plt.plot(false_pos_st, true_pos_st)\n",
        "plt.plot(false_pos_mel, true_pos_mel)\n",
        "plt.title(\"ROC curve considering Class 0 as positive\")\n",
        "plt.legend(['Short Time Energy', 'Melfilterbank Energy'])\n",
        "plt.xlabel(\"Flase Positive Rate(FPR)\")\n",
        "plt.ylabel(\"True Positive Rate(TPR)\")\n",
        "plt.xticks(np.arange(0,1.1,0.2))\n",
        "plt.yticks(np.arange(0,1.1,0.2))\n",
        "plt.show()"
      ]
    },
    {
      "cell_type": "code",
      "execution_count": null,
      "metadata": {
        "id": "G0bUUBZ2cOlO",
        "colab": {
          "base_uri": "https://localhost:8080/",
          "height": 295
        },
        "outputId": "de3a2f93-e25d-4b4e-cd4a-eb69fcdfe807"
      },
      "outputs": [
        {
          "output_type": "display_data",
          "data": {
            "text/plain": [
              "<Figure size 432x288 with 1 Axes>"
            ],
            "image/png": "[encoded data removed]"
          },
          "metadata": {
            "needs_background": "light"
          }
        }
      ],
      "source": [
        "thresholds = np.linspace(0,10,1000)\n",
        "# lists to store tpr and fpr of st\n",
        "false_pos_st = []\n",
        "true_pos_st = []\n",
        "# \n",
        "false_pos_mel = []\n",
        "true_pos_mel = []\n",
        "for i in range(len(thresholds)):\n",
        "  # short-time-Energy\n",
        "  curr_fpr, curr_tpr = fpr_tpr(df_train, df_test, 'st', thresholds[i],1)\n",
        "  false_pos_st.append(curr_fpr)\n",
        "  true_pos_st.append(curr_tpr)\n",
        "\n",
        "  # MEL Energy\n",
        "  curr_fpr1, curr_tpr1 = fpr_tpr(df_train, df_test, 'mel', thresholds[i],1)\n",
        "  false_pos_mel.append(curr_fpr1)\n",
        "  true_pos_mel.append(curr_tpr1)\n",
        "# Plotting the curve\n",
        "\n",
        "plt.plot(false_pos_st, true_pos_st)\n",
        "plt.plot(false_pos_mel, true_pos_mel)\n",
        "plt.title(\"ROC curve considering Class 1 as positive\")\n",
        "plt.legend(['Short Time Energy', 'Melfilterbank Energy'])\n",
        "plt.xlabel(\"Flase Positive Rate(FPR)\")\n",
        "plt.ylabel(\"True Positive Rate(TPR)\")\n",
        "plt.xticks(np.arange(0,1.1,0.2))\n",
        "plt.yticks(np.arange(0,1.1,0.2))\n",
        "plt.show()"
      ]
    },
    {
      "cell_type": "markdown",
      "source": [
        " # <center> **Question 2**\n",
        "\n",
        "\n",
        "\n",
        "---\n"
      ],
      "metadata": {
        "id": "hJos74-XpYdw"
      }
    },
    {
      "cell_type": "code",
      "source": [
        "# path\n",
        "path_q2 = \"/content/drive/MyDrive/Pattern Recognition/Assignment_1/q2/\""
      ],
      "metadata": {
        "id": "cAHdWubSphhk"
      },
      "execution_count": null,
      "outputs": []
    },
    {
      "cell_type": "code",
      "source": [
        "# Although it is asked not to use ML library but I need to use sklearn inorder to split training data\n",
        "from sklearn.model_selection import train_test_split"
      ],
      "metadata": {
        "id": "RZ2AW19RC8ab"
      },
      "execution_count": null,
      "outputs": []
    },
    {
      "cell_type": "markdown",
      "source": [
        "# Linearly Separable Data"
      ],
      "metadata": {
        "id": "o95sXOU-DA01"
      }
    },
    {
      "cell_type": "code",
      "source": [
        "# read the data\n",
        "l_cl1 = pd.read_csv(path_q2 + \"l_class1.txt\", sep = \" \", header=None)\n",
        "l_cl2 = pd.read_csv(path_q2 + \"l_class2.txt\", sep = \" \", header=None)\n",
        "l_cl3 = pd.read_csv(path_q2 + \"l_class3.txt\", sep = \" \", header=None)"
      ],
      "metadata": {
        "id": "kiV2aLP7DEii"
      },
      "execution_count": null,
      "outputs": []
    },
    {
      "cell_type": "code",
      "source": [
        "# split the data into two equal parts randomly\n",
        "l_cl1_train, l_cl1_test = train_test_split(l_cl1, test_size = 0.5, random_state = 42)\n",
        "l_cl2_train, l_cl2_test = train_test_split(l_cl2, test_size = 0.5, random_state = 42)\n",
        "l_cl3_train, l_cl3_test = train_test_split(l_cl3, test_size = 0.5, random_state = 42)"
      ],
      "metadata": {
        "id": "H5uBcm7BDjda"
      },
      "execution_count": null,
      "outputs": []
    },
    {
      "cell_type": "code",
      "source": [
        "# visualizing the training data\n",
        "# scatter plot\n",
        "plt.scatter(l_cl1_train[0], l_cl1_train[1], c='y',marker='o')\n",
        "plt.scatter(l_cl2_train[0], l_cl2_train[1], c='r',marker='s')\n",
        "plt.scatter(l_cl3_train[0], l_cl3_train[1], c='b',marker='x')\n",
        "plt.legend(['Class1', 'Class2', 'Class3'])\n",
        "plt.title('Linearly Separable Data')\n",
        "plt.xlabel('x-axis')\n",
        "plt.ylabel('y-axis')\n",
        "plt.show()"
      ],
      "metadata": {
        "colab": {
          "base_uri": "https://localhost:8080/",
          "height": 295
        },
        "id": "4hRg5tW6ENN-",
        "outputId": "a37c57f4-f29d-44b5-9eab-b0b3c9cc2cb0"
      },
      "execution_count": null,
      "outputs": [
        {
          "output_type": "display_data",
          "data": {
            "text/plain": [
              "<Figure size 432x288 with 1 Axes>"
            ],
            "image/png": "[encoded data removed]"
          },
          "metadata": {
            "needs_background": "light"
          }
        }
      ]
    },
    {
      "cell_type": "code",
      "source": [
        "# combine all the train and test data into one and assign its correct label\n",
        "l_cl1_train[2] = 1 # class1\n",
        "l_cl2_train[2] = 2 # class2\n",
        "l_cl3_train[2] = 3 # class3\n",
        "# test\n",
        "l_cl1_test[2] = 1 # class1\n",
        "l_cl2_test[2] = 2 # class2\n",
        "l_cl3_test[2] = 3 # class3"
      ],
      "metadata": {
        "id": "3GrHBsroLFA_"
      },
      "execution_count": null,
      "outputs": []
    },
    {
      "cell_type": "code",
      "source": [
        "# concatenating training data\n",
        "l_train = pd.concat([l_cl1_train,l_cl2_train])\n",
        "l_train = pd.concat([l_train, l_cl3_train])\n",
        "l_train.reset_index(drop=True, inplace=True)\n",
        "l_train.rename(columns = {0 :'attr1', 1 :'attr2', 2 : 'label'}, inplace=True)"
      ],
      "metadata": {
        "id": "NCWP4zm6LF0Q"
      },
      "execution_count": null,
      "outputs": []
    },
    {
      "cell_type": "code",
      "source": [
        "# concatenating test data\n",
        "l_test = pd.concat([l_cl1_test,l_cl2_test])\n",
        "l_test = pd.concat([l_test, l_cl3_test])\n",
        "l_test.reset_index(drop=True, inplace=True)\n",
        "l_test.rename(columns = {0 :'attr1', 1 :'attr2', 2 : 'label'}, inplace=True)"
      ],
      "metadata": {
        "id": "3leGzyJeORxZ"
      },
      "execution_count": null,
      "outputs": []
    },
    {
      "cell_type": "code",
      "source": [],
      "metadata": {
        "id": "ajhfnOYLOSBv"
      },
      "execution_count": null,
      "outputs": []
    },
    {
      "cell_type": "code",
      "source": [
        "# l_train.groupby('label').get_group(3).cov().values[0:2, 0:2] \n",
        "# l_train.groupby('label').get_group(3).mean().values[0:2]\n"
      ],
      "metadata": {
        "id": "1crtg1N_QW6G"
      },
      "execution_count": null,
      "outputs": []
    },
    {
      "cell_type": "code",
      "source": [
        "def parameters_of_classifier(df_train):\n",
        "  # mean vector and co-variance matrix\n",
        "  mean_1 = df_train.groupby('label').get_group(1).mean().values[0:2]\n",
        "  cov_1 = df_train.groupby('label').get_group(1).cov().values[0:2, 0:2]\n",
        "  # \n",
        "  mean_2 = df_train.groupby('label').get_group(2).mean().values[0:2]\n",
        "  cov_2 = df_train.groupby('label').get_group(2).cov().values[0:2, 0:2]\n",
        "  #\n",
        "  mean_3 = df_train.groupby('label').get_group(3).mean().values[0:2]\n",
        "  cov_3 = df_train.groupby('label').get_group(3).cov().values[0:2, 0:2]\n",
        "  # print(mean_1)\n",
        "  # print()\n",
        "  # print(mean_3)\n",
        "  return mean_1, cov_1, mean_2, cov_2, mean_3, cov_3\n",
        "\n"
      ],
      "metadata": {
        "id": "yaJqhl3kQW_b"
      },
      "execution_count": null,
      "outputs": []
    },
    {
      "cell_type": "code",
      "source": [
        "def conditional_density(test_i, mean_1, mean_2, mean_3, cov_1, cov_2, cov_3):\n",
        "  # we'll be providing with new covariance of each class based on the classifier we are using\n",
        "  inv_1 = np.linalg.inv(cov_1)\n",
        "  inv_2 = np.linalg.inv(cov_2)\n",
        "  inv_3 = np.linalg.inv(cov_3)\n",
        "  det_1 = np.linalg.det(cov_1)\n",
        "  det_2 = np.linalg.det(cov_2)\n",
        "  det_3 = np.linalg.det(cov_3)\n",
        "  dim = len(mean_1)\n",
        "  # print(test_i)\n",
        " \n",
        "  # print(mean_1)\n",
        "  # x-mean vector for all classes\n",
        "  diff_1 = test_i - mean_1\n",
        "  diff_2 = test_i - mean_2\n",
        "  diff_3 = test_i - mean_3\n",
        "  # comparision of conditional densities will give the comparision of posterior probabilities of classe\n",
        "  # It is because of the reason that prior probabiltity of each class is same\n",
        "  p1 = np.exp(-(np.matmul((np.matmul(diff_1.T, inv_1)), diff_1))*0.5)*(1/(((2*np.pi)**(dim/2))*(det_1)**0.5))\n",
        "  p2 = np.exp(-(np.matmul((np.matmul(diff_2.T, inv_2)), diff_2))*0.5)*(1/(((2*np.pi)**(dim/2))*(det_2)**0.5))\n",
        "  p3 = np.exp(-(np.matmul((np.matmul(diff_3.T, inv_3)), diff_3))*0.5)*(1/(((2*np.pi)**(dim/2))*(det_3)**0.5))\n",
        "\n",
        "  return p1,p2,p3"
      ],
      "metadata": {
        "id": "lnNQgIO1ZY3F"
      },
      "execution_count": null,
      "outputs": []
    },
    {
      "cell_type": "code",
      "source": [],
      "metadata": {
        "id": "Cjm3bl6vZZR3"
      },
      "execution_count": null,
      "outputs": []
    },
    {
      "cell_type": "code",
      "source": [
        "def Classifier1(df_train, df_test):\n",
        "  # model building for classifier 1\n",
        "  mean_1, cov_1, mean_2, cov_2, mean_3, cov_3 = parameters_of_classifier(df_train)\n",
        "  # Covariance for all classes is Iσ^2, the average of the sample variances for all dimensions, for all classes\n",
        "  sigma_sq = ((cov_1[0][0] + cov_1[1][1]) + (cov_2[0][0] + cov_2[1][1]) + (cov_2[0][0] + cov_2[1][1]))/6\n",
        "  new_cov = np.array([[sigma_sq, 0], [0, sigma_sq]])\n",
        "  # this new covariance matrix will be same for all the classes\n",
        "  # print(new_cov)\n",
        "  # make prediction based on likelihood\n",
        "  y_pred = []\n",
        "  for i in range(len(df_test)):\n",
        "    x_test_i = df_test.iloc[i].values[0:2]\n",
        "    pred_idx = np.argmax(conditional_density(x_test_i,mean_1,mean_2,mean_3,new_cov,new_cov,new_cov)) \n",
        "    y_pred.append(pred_idx + 1)\n",
        "  \n",
        "  return y_pred\n",
        "\n",
        "\n"
      ],
      "metadata": {
        "id": "zew4aqUuEaob"
      },
      "execution_count": null,
      "outputs": []
    },
    {
      "cell_type": "code",
      "source": [
        "def Classifier2(df_train, df_test):\n",
        "  # model building for classifier 1\n",
        "  mean_1, cov_1, mean_2, cov_2, mean_3, cov_3 = parameters_of_classifier(df_train)\n",
        "  # Covariance the average of the sample covariances  for all classes\n",
        "  \n",
        "  new_cov = (cov_1 + cov_2 + cov_3)/3\n",
        "  # this new covariance matrix will be same for all the classes\n",
        "  # print(new_cov)\n",
        "  # make prediction based on likelihood\n",
        "  y_pred = []\n",
        "  for i in range(len(df_test)):\n",
        "    x_test_i = df_test.iloc[i].values[0:2]\n",
        "    pred_idx = np.argmax(conditional_density(x_test_i,mean_1,mean_2,mean_3,new_cov,new_cov,new_cov)) \n",
        "    y_pred.append(pred_idx + 1)\n",
        "  \n",
        "  return y_pred"
      ],
      "metadata": {
        "id": "P0KlFwCZfy9R"
      },
      "execution_count": null,
      "outputs": []
    },
    {
      "cell_type": "code",
      "source": [
        "def Classifier3(df_train, df_test):\n",
        "  # model building for classifier 1\n",
        "  mean_1, cov_1, mean_2, cov_2, mean_3, cov_3 = parameters_of_classifier(df_train)\n",
        " \n",
        "  # diagonal covariance matrix for each class\n",
        "  cov_1 = np.array([[cov_1[0][0], 0],[0, cov_1[1][1]]])\n",
        "  cov_2 = np.array([[cov_2[0][0], 0],[0, cov_2[1][1]]])\n",
        "  cov_3 = np.array([[cov_3[0][0], 0],[0, cov_3[1][1]]])\n",
        "  \n",
        "  # make prediction based on likelihood\n",
        "  y_pred = []\n",
        "  for i in range(len(df_test)):\n",
        "    x_test_i = df_test.iloc[i].values[0:2]\n",
        "    pred_idx = np.argmax(conditional_density(x_test_i,mean_1,mean_2,mean_3,cov_1, cov_2, cov_3)) \n",
        "    y_pred.append(pred_idx + 1)\n",
        "  \n",
        "  return y_pred"
      ],
      "metadata": {
        "id": "faP-hGAUlW4X"
      },
      "execution_count": null,
      "outputs": []
    },
    {
      "cell_type": "code",
      "source": [
        "def Classifier4(df_train, df_test):\n",
        "  # model building for classifier 1\n",
        "  mean_1, cov_1, mean_2, cov_2, mean_3, cov_3 = parameters_of_classifier(df_train)\n",
        "  \n",
        "  # sample covariance matrix is the covariance matrix for each class\n",
        "  \n",
        "  # make prediction based on likelihood\n",
        "  y_pred = []\n",
        "  for i in range(len(df_test)):\n",
        "    x_test_i = df_test.iloc[i].values[0:2]\n",
        "    pred_idx = np.argmax(conditional_density(x_test_i,mean_1,mean_2,mean_3,cov_1,cov_2,cov_3)) \n",
        "    y_pred.append(pred_idx + 1)\n",
        "  \n",
        "  return y_pred"
      ],
      "metadata": {
        "id": "hzQAi6uLlW7R"
      },
      "execution_count": null,
      "outputs": []
    },
    {
      "cell_type": "code",
      "source": [
        "def preformance_measure_helper(y_pred, y_test, pos_class):\n",
        "  acc, pre, rec, fsc = 0, 0, 0, 0\n",
        "  # considering class1 as positive\n",
        "  tp, fp, tn, fn = 0, 0, 0, 0\n",
        "  for i in range(len(y_pred)):\n",
        "    if y_pred[i] == pos_class and y_test.iloc[i] == pos_class:\n",
        "      tp += 1\n",
        "    elif y_pred[i] != pos_class and y_test.iloc[i] == pos_class:\n",
        "      fn += 1\n",
        "    elif y_pred[i] == pos_class and y_test.iloc[i] != pos_class:\n",
        "      fp += 1\n",
        "    else:\n",
        "      tn += 1\n",
        "  acc = (tn + tp)/(tn+tp+fn+fp)\n",
        "  pre = tp/(tp+fp)\n",
        "  rec = tp/(tp+fn)\n",
        "  fsc = (2*pre*rec)/(pre + rec) \n",
        "  return acc, pre, rec, fsc"
      ],
      "metadata": {
        "id": "S50pBEFYM4G0"
      },
      "execution_count": null,
      "outputs": []
    },
    {
      "cell_type": "code",
      "source": [],
      "metadata": {
        "id": "mb_YUFlBM4Uv"
      },
      "execution_count": null,
      "outputs": []
    },
    {
      "cell_type": "code",
      "source": [
        "#  Accuracy, Precision, Recall and F-score for each classifier\n",
        "def performance_measure(df_train, df_test, classfier_name):\n",
        "  y_pred = classfier_name(df_train, df_test)\n",
        "  # print(np.array(y_pred))\n",
        "\n",
        "  acc, pre, rec, fsc = 0, 0, 0, 0\n",
        "  # take average of all the precision measures after considering each classes as positive one by one\n",
        "  for i in range(1,4,1):\n",
        "    curr_acc, curr_pre, curr_rec, curr_fsc = preformance_measure_helper(y_pred,df_test['label'],i)\n",
        "    acc += curr_acc\n",
        "    pre += curr_pre\n",
        "    rec += curr_rec\n",
        "    fsc += curr_fsc\n",
        "  acc = acc/3\n",
        "  pre /= 3\n",
        "  rec /= 3\n",
        "  fsc /= 3\n",
        "  return acc, pre, rec, fsc\n",
        "\n",
        "    "
      ],
      "metadata": {
        "id": "Lr491gVAlW9o"
      },
      "execution_count": null,
      "outputs": []
    },
    {
      "cell_type": "code",
      "source": [
        "performance_measure(l_train,l_test, Classifier3) "
      ],
      "metadata": {
        "colab": {
          "base_uri": "https://localhost:8080/"
        },
        "id": "M0Z4wkd7lXAc",
        "outputId": "a413d6a7-ce74-4f75-f60b-0455b1c308be"
      },
      "execution_count": null,
      "outputs": [
        {
          "output_type": "execute_result",
          "data": {
            "text/plain": [
              "(0.9991111111111112, 0.99867197875166, 0.9986666666666667, 0.9986666613333121)"
            ]
          },
          "metadata": {},
          "execution_count": 30
        }
      ]
    },
    {
      "cell_type": "code",
      "source": [
        "def plot_decision_boundaries(df_train, df_test, classifier_name, Title):\n",
        "  Y = df_test['label']\n",
        "  X = df_test[['attr1','attr2']]\n",
        "\n",
        "  # finding parameters for plotting boundaries\n",
        "  # to be safer side we define boundary +1 and -1 of the min and max from the data point\n",
        "  min_x, max_x = X.iloc[:, 0].min()-1, X.iloc[:, 0].max()+1\n",
        "  min_y, max_y = X.iloc[:, 1].min()-1, X.iloc[:, 1].max()+1\n",
        "\n",
        "  # generate data points in between these accquired boundaries\n",
        "  x1_grid = np.arange(min_x, max_x, 0.1)\n",
        "  x2_grid = np.arange(min_y, max_y, 0.1)\n",
        "\n",
        "  # now use np.meshgrid() to make all lines and rows of the grid\n",
        "  xx, yy = np.meshgrid(x1_grid, x2_grid)\n",
        "\n",
        "  #  flatten each grid vector\n",
        "  vec_x, vec_y = xx.flatten(), yy.flatten()\n",
        "  vec_x, vec_y = vec_x.reshape((len(vec_x), 1)), vec_y.reshape((len(vec_y), 1))\n",
        "  # horizontal stack vectors to create x1,x2 input for the model\n",
        "  grid = pd.DataFrame(np.hstack((vec_x, vec_y)))\n",
        "  \n",
        "  # Predictions from the classifier to make the plot\n",
        "  y_pred = classifier_name(df_train, grid)\n",
        "  y_pred = np.array(y_pred)\n",
        "  zz = y_pred.reshape(xx.shape)\n",
        "  \n",
        "  # plot the grid of x, y and z values as a surface\n",
        "  plt.contourf(xx, yy, zz, cmap = 'Paired')\n",
        "  # create scatter plot for samples from each class\n",
        "  X = np.array(X)\n",
        "  for cls in range(1,4):\n",
        "    # get row indexes for samples with this class\n",
        "    i = np.where(Y == cls)\n",
        "    # create scatter of these samples\n",
        "    plt.scatter(X[i, 0], X[i, 1], cmap = 'Paired')\n",
        "  \n",
        "  plt.title(Title)\n",
        "  plt.xlabel(\"x-axis\")\n",
        "  plt.ylabel(\"y-axis\")\n",
        "  plt.show()\n"
      ],
      "metadata": {
        "id": "YtjcsseNsltb"
      },
      "execution_count": null,
      "outputs": []
    },
    {
      "cell_type": "markdown",
      "source": [
        "## **Classification model has been built. Now we need to use them to answer assignment questions**"
      ],
      "metadata": {
        "id": "AfloCuZhTuhn"
      }
    },
    {
      "cell_type": "code",
      "source": [
        "# plot decision boundary for classifier 1\n",
        "plot_decision_boundaries(l_train, l_test, Classifier1, 'Classfier 1')"
      ],
      "metadata": {
        "colab": {
          "base_uri": "https://localhost:8080/",
          "height": 295
        },
        "id": "MRVhkSb2UVri",
        "outputId": "713777be-75d2-495d-9c36-32813c05c354"
      },
      "execution_count": null,
      "outputs": [
        {
          "output_type": "display_data",
          "data": {
            "text/plain": [
              "<Figure size 432x288 with 1 Axes>"
            ],
            "image/png": "[encoded data removed]"
          },
          "metadata": {
            "needs_background": "light"
          }
        }
      ]
    },
    {
      "cell_type": "code",
      "source": [
        "# plot decision boundary for classifier 2\n",
        "plot_decision_boundaries(l_train, l_test, Classifier2, 'Classfier 2')"
      ],
      "metadata": {
        "colab": {
          "base_uri": "https://localhost:8080/",
          "height": 295
        },
        "id": "0Az_Dyz3UV3b",
        "outputId": "cb8f147e-7bf0-4dd6-c098-1ee21cff5888"
      },
      "execution_count": null,
      "outputs": [
        {
          "output_type": "display_data",
          "data": {
            "text/plain": [
              "<Figure size 432x288 with 1 Axes>"
            ],
            "image/png": "[encoded data removed]"
          },
          "metadata": {
            "needs_background": "light"
          }
        }
      ]
    },
    {
      "cell_type": "code",
      "source": [
        "# plot decision boundary for classifier 3\n",
        "plot_decision_boundaries(l_train, l_test, Classifier3, 'Classfier 3')"
      ],
      "metadata": {
        "colab": {
          "base_uri": "https://localhost:8080/",
          "height": 295
        },
        "id": "MX2oSn87UV8H",
        "outputId": "b2cc5c51-d825-4f10-b664-fc5bde95ea70"
      },
      "execution_count": null,
      "outputs": [
        {
          "output_type": "display_data",
          "data": {
            "text/plain": [
              "<Figure size 432x288 with 1 Axes>"
            ],
            "image/png": "[encoded data removed]"
          },
          "metadata": {
            "needs_background": "light"
          }
        }
      ]
    },
    {
      "cell_type": "code",
      "source": [
        "# plot decision boundary for classifier 4\n",
        "plot_decision_boundaries(l_train, l_test, Classifier4, 'Classfier 4')"
      ],
      "metadata": {
        "colab": {
          "base_uri": "https://localhost:8080/",
          "height": 295
        },
        "id": "sE7gwUPAUV_l",
        "outputId": "b24a8ddb-d912-48cd-81af-e502f8fee64c"
      },
      "execution_count": null,
      "outputs": [
        {
          "output_type": "display_data",
          "data": {
            "text/plain": [
              "<Figure size 432x288 with 1 Axes>"
            ],
            "image/png": "[encoded data removed]"
          },
          "metadata": {
            "needs_background": "light"
          }
        }
      ]
    },
    {
      "cell_type": "code",
      "source": [
        "# printing the performance statistics of all the classifiers in a table\n",
        "p_class1 = np.array(performance_measure(l_train,l_test, Classifier1)) \n",
        "p_class2 = np.array(performance_measure(l_train,l_test, Classifier2)) \n",
        "p_class3 = np.array(performance_measure(l_train,l_test, Classifier3)) \n",
        "p_class4 = np.array(performance_measure(l_train,l_test, Classifier4)) \n",
        "\n",
        "p_data_l = np.array([p_class1, p_class2, p_class3, p_class4])\n",
        "column_values = ['Accuracy', 'Precision', 'Recall', 'F-score']\n",
        "index_values = ['Classifier_1', 'Classifier_2', 'Classifier_3', 'Classifier_4']\n",
        "performance_table = pd.DataFrame(data = p_data_l, \n",
        "                  index = index_values, \n",
        "                  columns = column_values)"
      ],
      "metadata": {
        "id": "M0srjQRnUWDR"
      },
      "execution_count": null,
      "outputs": []
    },
    {
      "cell_type": "code",
      "source": [
        "performance_table"
      ],
      "metadata": {
        "colab": {
          "base_uri": "https://localhost:8080/",
          "height": 175
        },
        "id": "e73qIp8MZDWY",
        "outputId": "aabb1f50-00d6-4ffb-b0d1-3ae96b38558b"
      },
      "execution_count": null,
      "outputs": [
        {
          "output_type": "execute_result",
          "data": {
            "text/plain": [
              "              Accuracy  Precision    Recall   F-score\n",
              "Classifier_1  1.000000   1.000000  1.000000  1.000000\n",
              "Classifier_2  1.000000   1.000000  1.000000  1.000000\n",
              "Classifier_3  0.999111   0.998672  0.998667  0.998667\n",
              "Classifier_4  1.000000   1.000000  1.000000  1.000000"
            ],
            "text/html": [
              "\n",
              "  <div id=\"df-bb8ac362-45f5-4211-a025-baf9432a7995\">\n",
              "    <div class=\"colab-df-container\">\n",
              "      <div>\n",
              "<style scoped>\n",
              "    .dataframe tbody tr th:only-of-type {\n",
              "        vertical-align: middle;\n",
              "    }\n",
              "\n",
              "    .dataframe tbody tr th {\n",
              "        vertical-align: top;\n",
              "    }\n",
              "\n",
              "    .dataframe thead th {\n",
              "        text-align: right;\n",
              "    }\n",
              "</style>\n",
              "<table border=\"1\" class=\"dataframe\">\n",
              "  <thead>\n",
              "    <tr style=\"text-align: right;\">\n",
              "      <th></th>\n",
              "      <th>Accuracy</th>\n",
              "      <th>Precision</th>\n",
              "      <th>Recall</th>\n",
              "      <th>F-score</th>\n",
              "    </tr>\n",
              "  </thead>\n",
              "  <tbody>\n",
              "    <tr>\n",
              "      <th>Classifier_1</th>\n",
              "      <td>1.000000</td>\n",
              "      <td>1.000000</td>\n",
              "      <td>1.000000</td>\n",
              "      <td>1.000000</td>\n",
              "    </tr>\n",
              "    <tr>\n",
              "      <th>Classifier_2</th>\n",
              "      <td>1.000000</td>\n",
              "      <td>1.000000</td>\n",
              "      <td>1.000000</td>\n",
              "      <td>1.000000</td>\n",
              "    </tr>\n",
              "    <tr>\n",
              "      <th>Classifier_3</th>\n",
              "      <td>0.999111</td>\n",
              "      <td>0.998672</td>\n",
              "      <td>0.998667</td>\n",
              "      <td>0.998667</td>\n",
              "    </tr>\n",
              "    <tr>\n",
              "      <th>Classifier_4</th>\n",
              "      <td>1.000000</td>\n",
              "      <td>1.000000</td>\n",
              "      <td>1.000000</td>\n",
              "      <td>1.000000</td>\n",
              "    </tr>\n",
              "  </tbody>\n",
              "</table>\n",
              "</div>\n",
              "      <button class=\"colab-df-convert\" onclick=\"convertToInteractive('df-bb8ac362-45f5-4211-a025-baf9432a7995')\"\n",
              "              title=\"Convert this dataframe to an interactive table.\"\n",
              "              style=\"display:none;\">\n",
              "        \n",
              "  <svg xmlns=\"http://www.w3.org/2000/svg\" height=\"24px\"viewBox=\"0 0 24 24\"\n",
              "       width=\"24px\">\n",
              "    <path d=\"M0 0h24v24H0V0z\" fill=\"none\"/>\n",
              "    <path d=\"M18.56 5.44l.94 2.06.94-2.06 2.06-.94-2.06-.94-.94-2.06-.94 2.06-2.06.94zm-11 1L8.5 8.5l.94-2.06 2.06-.94-2.06-.94L8.5 2.5l-.94 2.06-2.06.94zm10 10l.94 2.06.94-2.06 2.06-.94-2.06-.94-.94-2.06-.94 2.06-2.06.94z\"/><path d=\"M17.41 7.96l-1.37-1.37c-.4-.4-.92-.59-1.43-.59-.52 0-1.04.2-1.43.59L10.3 9.45l-7.72 7.72c-.78.78-.78 2.05 0 2.83L4 21.41c.39.39.9.59 1.41.59.51 0 1.02-.2 1.41-.59l7.78-7.78 2.81-2.81c.8-.78.8-2.07 0-2.86zM5.41 20L4 18.59l7.72-7.72 1.47 1.35L5.41 20z\"/>\n",
              "  </svg>\n",
              "      </button>\n",
              "      \n",
              "  <style>\n",
              "    .colab-df-container {\n",
              "      display:flex;\n",
              "      flex-wrap:wrap;\n",
              "      gap: 12px;\n",
              "    }\n",
              "\n",
              "    .colab-df-convert {\n",
              "      background-color: #E8F0FE;\n",
              "      border: none;\n",
              "      border-radius: 50%;\n",
              "      cursor: pointer;\n",
              "      display: none;\n",
              "      fill: #1967D2;\n",
              "      height: 32px;\n",
              "      padding: 0 0 0 0;\n",
              "      width: 32px;\n",
              "    }\n",
              "\n",
              "    .colab-df-convert:hover {\n",
              "      background-color: #E2EBFA;\n",
              "      box-shadow: 0px 1px 2px rgba(60, 64, 67, 0.3), 0px 1px 3px 1px rgba(60, 64, 67, 0.15);\n",
              "      fill: #174EA6;\n",
              "    }\n",
              "\n",
              "    [theme=dark] .colab-df-convert {\n",
              "      background-color: #3B4455;\n",
              "      fill: #D2E3FC;\n",
              "    }\n",
              "\n",
              "    [theme=dark] .colab-df-convert:hover {\n",
              "      background-color: #434B5C;\n",
              "      box-shadow: 0px 1px 3px 1px rgba(0, 0, 0, 0.15);\n",
              "      filter: drop-shadow(0px 1px 2px rgba(0, 0, 0, 0.3));\n",
              "      fill: #FFFFFF;\n",
              "    }\n",
              "  </style>\n",
              "\n",
              "      <script>\n",
              "        const buttonEl =\n",
              "          document.querySelector('#df-bb8ac362-45f5-4211-a025-baf9432a7995 button.colab-df-convert');\n",
              "        buttonEl.style.display =\n",
              "          google.colab.kernel.accessAllowed ? 'block' : 'none';\n",
              "\n",
              "        async function convertToInteractive(key) {\n",
              "          const element = document.querySelector('#df-bb8ac362-45f5-4211-a025-baf9432a7995');\n",
              "          const dataTable =\n",
              "            await google.colab.kernel.invokeFunction('convertToInteractive',\n",
              "                                                     [key], {});\n",
              "          if (!dataTable) return;\n",
              "\n",
              "          const docLinkHtml = 'Like what you see? Visit the ' +\n",
              "            '<a target=\"_blank\" href=https://colab.research.google.com/notebooks/data_table.ipynb>data table notebook</a>'\n",
              "            + ' to learn more about interactive tables.';\n",
              "          element.innerHTML = '';\n",
              "          dataTable['output_type'] = 'display_data';\n",
              "          await google.colab.output.renderOutput(dataTable, element);\n",
              "          const docLink = document.createElement('div');\n",
              "          docLink.innerHTML = docLinkHtml;\n",
              "          element.appendChild(docLink);\n",
              "        }\n",
              "      </script>\n",
              "    </div>\n",
              "  </div>\n",
              "  "
            ]
          },
          "metadata": {},
          "execution_count": 37
        }
      ]
    },
    {
      "cell_type": "code",
      "source": [
        "# print summary of parameters for classifier1\n",
        "def sum_classifier(df_train, df_test, classifier_name):\n",
        "  mean_1, cov_1, mean_2, cov_2, mean_3, cov_3 = parameters_of_classifier(df_train)\n",
        "  # \n",
        "  if classifier_name == 1:\n",
        "    sigma_sq = ((cov_1[0][0] + cov_1[1][1]) + (cov_2[0][0] + cov_2[1][1]) + (cov_2[0][0] + cov_2[1][1]))/6\n",
        "    new_cov = np.array([[sigma_sq, 0], [0, sigma_sq]])\n",
        "    cov_1, cov_2, cov_3 = new_cov, new_cov, new_cov\n",
        "    means_cl1 = np.array([mean_1, mean_2, mean_3])\n",
        "    means_cl1 = pd.DataFrame(data = means_cl1, index = ['Class1', 'Class2', 'Class3'], columns = ['mean_attr1', 'mean_attr2'])\n",
        "  \n",
        "  elif classifier_name == 2:\n",
        "    new_cov = (cov_1 + cov_2 + cov_3)/3\n",
        "    cov_1, cov_2, cov_3 = new_cov, new_cov, new_cov\n",
        "    means_cl1 = np.array([mean_1, mean_2, mean_3])\n",
        "    means_cl1 = pd.DataFrame(data = means_cl1, index = ['Class1', 'Class2', 'Class3'], columns = ['mean_attr1', 'mean_attr2'])\n",
        "  \n",
        "  elif classifier_name == 3:\n",
        "    cov_1 = np.array([[cov_1[0][0], 0],[0, cov_1[1][1]]])\n",
        "    cov_2 = np.array([[cov_2[0][0], 0],[0, cov_2[1][1]]])\n",
        "    cov_3 = np.array([[cov_3[0][0], 0],[0, cov_3[1][1]]])\n",
        "    means_cl1 = np.array([mean_1, mean_2, mean_3])\n",
        "    means_cl1 = pd.DataFrame(data = means_cl1, index = ['Class1', 'Class2', 'Class3'], columns = ['mean_attr1', 'mean_attr2'])\n",
        "  else:\n",
        "    means_cl1 = np.array([mean_1, mean_2, mean_3])\n",
        "    means_cl1 = pd.DataFrame(data = means_cl1, index = ['Class1', 'Class2', 'Class3'], columns = ['mean_attr1', 'mean_attr2'])\n",
        "  print(f'# Mean Summary for Classifier {classifier_name}')\n",
        "  print(means_cl1)\n",
        "  # \n",
        "  print(f'\\n# Covariance Matrix used for classifier {classifier_name}\\n')\n",
        "  print('\\nFor Class 1')\n",
        "  print(cov_1)\n",
        "  print('\\nFor Class 2')\n",
        "  print(cov_2)\n",
        "  print('\\nFor Class 3')\n",
        "  print(cov_3)\n",
        "\n"
      ],
      "metadata": {
        "id": "yHGvTd5CZDbg"
      },
      "execution_count": null,
      "outputs": []
    },
    {
      "cell_type": "code",
      "source": [
        "sum_classifier(l_train, l_test, 1)"
      ],
      "metadata": {
        "id": "9EEMCn3HZDgc",
        "colab": {
          "base_uri": "https://localhost:8080/"
        },
        "outputId": "2ce14dfc-f8b9-4c01-cc1c-2c79d5820b1a"
      },
      "execution_count": null,
      "outputs": [
        {
          "output_type": "stream",
          "name": "stdout",
          "text": [
            "# Mean Summary for Classifier 1\n",
            "        mean_attr1  mean_attr2\n",
            "Class1   14.869206   -6.013958\n",
            "Class2    5.269118   10.218500\n",
            "Class3   -2.796475   -5.222994\n",
            "\n",
            "# Covariance Matrix used for classifier 1\n",
            "\n",
            "\n",
            "For Class 1\n",
            "[[4.87758835 0.        ]\n",
            " [0.         4.87758835]]\n",
            "\n",
            "For Class 2\n",
            "[[4.87758835 0.        ]\n",
            " [0.         4.87758835]]\n",
            "\n",
            "For Class 3\n",
            "[[4.87758835 0.        ]\n",
            " [0.         4.87758835]]\n"
          ]
        }
      ]
    },
    {
      "cell_type": "code",
      "source": [
        "sum_classifier(l_train, l_test, 2)"
      ],
      "metadata": {
        "id": "wVH0KXYBZDnF",
        "colab": {
          "base_uri": "https://localhost:8080/"
        },
        "outputId": "a02dfddb-2076-431f-93a6-f6d89c4b5596"
      },
      "execution_count": null,
      "outputs": [
        {
          "output_type": "stream",
          "name": "stdout",
          "text": [
            "# Mean Summary for Classifier 2\n",
            "        mean_attr1  mean_attr2\n",
            "Class1   14.869206   -6.013958\n",
            "Class2    5.269118   10.218500\n",
            "Class3   -2.796475   -5.222994\n",
            "\n",
            "# Covariance Matrix used for classifier 2\n",
            "\n",
            "\n",
            "For Class 1\n",
            "[[ 5.85869274 -2.01258645]\n",
            " [-2.01258645  5.40159017]]\n",
            "\n",
            "For Class 2\n",
            "[[ 5.85869274 -2.01258645]\n",
            " [-2.01258645  5.40159017]]\n",
            "\n",
            "For Class 3\n",
            "[[ 5.85869274 -2.01258645]\n",
            " [-2.01258645  5.40159017]]\n"
          ]
        }
      ]
    },
    {
      "cell_type": "code",
      "source": [
        "sum_classifier(l_train, l_test, 3)"
      ],
      "metadata": {
        "colab": {
          "base_uri": "https://localhost:8080/"
        },
        "id": "vdIQX2hYdis4",
        "outputId": "c2fc6db9-1634-4dea-8d0e-5beace3b0e08"
      },
      "execution_count": null,
      "outputs": [
        {
          "output_type": "stream",
          "name": "stdout",
          "text": [
            "# Mean Summary for Classifier 3\n",
            "        mean_attr1  mean_attr2\n",
            "Class1   14.869206   -6.013958\n",
            "Class2    5.269118   10.218500\n",
            "Class3   -2.796475   -5.222994\n",
            "\n",
            "# Covariance Matrix used for classifier 3\n",
            "\n",
            "\n",
            "For Class 1\n",
            "[[5.77988397 0.        ]\n",
            " [0.         2.80134335]]\n",
            "\n",
            "For Class 2\n",
            "[[6.11840592 0.        ]\n",
            " [0.         4.22374546]]\n",
            "\n",
            "For Class 3\n",
            "[[5.67778833 0.        ]\n",
            " [0.         9.17968168]]\n"
          ]
        }
      ]
    },
    {
      "cell_type": "code",
      "source": [
        "sum_classifier(l_train, l_test, 4)"
      ],
      "metadata": {
        "colab": {
          "base_uri": "https://localhost:8080/"
        },
        "id": "nNssRT4cdi0z",
        "outputId": "c9fefec6-226b-49f9-85f9-89be8285b24b"
      },
      "execution_count": null,
      "outputs": [
        {
          "output_type": "stream",
          "name": "stdout",
          "text": [
            "# Mean Summary for Classifier 4\n",
            "        mean_attr1  mean_attr2\n",
            "Class1   14.869206   -6.013958\n",
            "Class2    5.269118   10.218500\n",
            "Class3   -2.796475   -5.222994\n",
            "\n",
            "# Covariance Matrix used for classifier 4\n",
            "\n",
            "\n",
            "For Class 1\n",
            "[[ 5.77988397 -2.60577901]\n",
            " [-2.60577901  2.80134335]]\n",
            "\n",
            "For Class 2\n",
            "[[6.11840592 2.10008546]\n",
            " [2.10008546 4.22374546]]\n",
            "\n",
            "For Class 3\n",
            "[[ 5.67778833 -5.53206581]\n",
            " [-5.53206581  9.17968168]]\n"
          ]
        }
      ]
    },
    {
      "cell_type": "markdown",
      "source": [
        "# <center> **Non Linearly Separable Data**\n",
        "\n",
        "---\n",
        "\n",
        "\n",
        "\n",
        "\n"
      ],
      "metadata": {
        "id": "6Xcij7T-WPpx"
      }
    },
    {
      "cell_type": "code",
      "source": [
        "# read the data\n",
        "nl_cl1 = pd.read_csv(path_q2 + \"nl_class1.txt\", sep = \" \", header=None)\n",
        "nl_cl2 = pd.read_csv(path_q2 + \"nl_class2.txt\", sep = \" \", header=None)\n",
        "nl_cl3 = pd.read_csv(path_q2 + \"nl_class3.txt\", sep = \" \", header=None)"
      ],
      "metadata": {
        "id": "ADLq6i_jUWGM"
      },
      "execution_count": null,
      "outputs": []
    },
    {
      "cell_type": "code",
      "source": [
        "# split the data into two equal parts randomly\n",
        "nl_cl1_train, nl_cl1_test = train_test_split(nl_cl1, test_size = 0.5, random_state = 42)\n",
        "nl_cl2_train, nl_cl2_test = train_test_split(nl_cl2, test_size = 0.5, random_state = 42)\n",
        "nl_cl3_train, nl_cl3_test = train_test_split(nl_cl3, test_size = 0.5, random_state = 42)"
      ],
      "metadata": {
        "id": "DN8ksRvLWzNr"
      },
      "execution_count": null,
      "outputs": []
    },
    {
      "cell_type": "code",
      "source": [
        "# visualizing the training data\n",
        "# scatter plot\n",
        "plt.scatter(nl_cl1_train[0], nl_cl1_train[1], c='y',marker='o')\n",
        "plt.scatter(nl_cl2_train[0], nl_cl2_train[1], c='r',marker='s')\n",
        "plt.scatter(nl_cl3_train[0], nl_cl3_train[1], c='b',marker='x')\n",
        "plt.legend(['Class1', 'Class2', 'Class3'])\n",
        "plt.title('Non-Linearly Separable Data')\n",
        "plt.xlabel('x-axis')\n",
        "plt.ylabel('y-axis')\n",
        "plt.show()"
      ],
      "metadata": {
        "colab": {
          "base_uri": "https://localhost:8080/",
          "height": 295
        },
        "id": "DeJs8KKwWzXx",
        "outputId": "2470c4c6-4b0c-44ae-d103-2f7b23a7a877"
      },
      "execution_count": null,
      "outputs": [
        {
          "output_type": "display_data",
          "data": {
            "text/plain": [
              "<Figure size 432x288 with 1 Axes>"
            ],
            "image/png": "[encoded data removed]"
          },
          "metadata": {
            "needs_background": "light"
          }
        }
      ]
    },
    {
      "cell_type": "code",
      "source": [
        "# combine all the train and test data into one and assign its correct label\n",
        "nl_cl1_train[2] = 1 # class1\n",
        "nl_cl2_train[2] = 2 # class2\n",
        "nl_cl3_train[2] = 3 # class3\n",
        "# test\n",
        "nl_cl1_test[2] = 1 # class1\n",
        "nl_cl2_test[2] = 2 # class2\n",
        "nl_cl3_test[2] = 3 # class3"
      ],
      "metadata": {
        "id": "IKI0JvPKWzcG"
      },
      "execution_count": null,
      "outputs": []
    },
    {
      "cell_type": "code",
      "source": [
        "# concatenating training data\n",
        "nl_train = pd.concat([nl_cl1_train,nl_cl2_train])\n",
        "nl_train = pd.concat([nl_train, nl_cl3_train])\n",
        "nl_train.reset_index(drop=True, inplace=True)\n",
        "nl_train.rename(columns = {0 :'attr1', 1 :'attr2', 2 : 'label'}, inplace=True)"
      ],
      "metadata": {
        "id": "i8n_TD4gWzfH"
      },
      "execution_count": null,
      "outputs": []
    },
    {
      "cell_type": "code",
      "source": [
        "# concatenating test data\n",
        "nl_test = pd.concat([nl_cl1_test,nl_cl2_test])\n",
        "nl_test = pd.concat([nl_test, nl_cl3_test])\n",
        "nl_test.reset_index(drop=True, inplace=True)\n",
        "nl_test.rename(columns = {0 :'attr1', 1 :'attr2', 2 : 'label'}, inplace=True)"
      ],
      "metadata": {
        "id": "LXXU83CKWzhu"
      },
      "execution_count": null,
      "outputs": []
    },
    {
      "cell_type": "code",
      "source": [
        "# plot decision boundary for classifier 1 and Non -Linearly separable data\n",
        "plot_decision_boundaries(nl_train, nl_test, Classifier1, 'Classfier 1')"
      ],
      "metadata": {
        "colab": {
          "base_uri": "https://localhost:8080/",
          "height": 295
        },
        "id": "JBvN3hT7WzkZ",
        "outputId": "d7be5eaa-ee38-4996-a7f0-c8acbbd6d7ae"
      },
      "execution_count": null,
      "outputs": [
        {
          "output_type": "display_data",
          "data": {
            "text/plain": [
              "<Figure size 432x288 with 1 Axes>"
            ],
            "image/png": "[encoded data removed]"
          },
          "metadata": {
            "needs_background": "light"
          }
        }
      ]
    },
    {
      "cell_type": "code",
      "source": [
        "# plot decision boundary for classifier 2 and Non -Linearly separable data\n",
        "plot_decision_boundaries(nl_train, nl_test, Classifier2, 'Classfier 2')"
      ],
      "metadata": {
        "colab": {
          "base_uri": "https://localhost:8080/",
          "height": 295
        },
        "id": "HPE1kHk2Wzm7",
        "outputId": "347e602a-5e95-4a1a-e698-399b139b30c3"
      },
      "execution_count": null,
      "outputs": [
        {
          "output_type": "display_data",
          "data": {
            "text/plain": [
              "<Figure size 432x288 with 1 Axes>"
            ],
            "image/png": "[encoded data removed]"
          },
          "metadata": {
            "needs_background": "light"
          }
        }
      ]
    },
    {
      "cell_type": "code",
      "source": [
        "# plot decision boundary for classifier 3 and Non -Linearly separable data\n",
        "plot_decision_boundaries(nl_train, nl_test, Classifier3, 'Classfier 3')"
      ],
      "metadata": {
        "colab": {
          "base_uri": "https://localhost:8080/",
          "height": 295
        },
        "id": "NsPKx58lWzpw",
        "outputId": "b709e1fd-4b17-42e5-e5f3-49a788f3e557"
      },
      "execution_count": null,
      "outputs": [
        {
          "output_type": "display_data",
          "data": {
            "text/plain": [
              "<Figure size 432x288 with 1 Axes>"
            ],
            "image/png": "[encoded data removed]"
          },
          "metadata": {
            "needs_background": "light"
          }
        }
      ]
    },
    {
      "cell_type": "code",
      "source": [
        "# plot decision boundary for classifier 4 and Non -Linearly separable data\n",
        "plot_decision_boundaries(nl_train, nl_test, Classifier4, 'Classfier 4')"
      ],
      "metadata": {
        "colab": {
          "base_uri": "https://localhost:8080/",
          "height": 295
        },
        "id": "JMN_ekRMKkzV",
        "outputId": "f76ef851-9c71-44dd-82ef-6a53363af6e3"
      },
      "execution_count": null,
      "outputs": [
        {
          "output_type": "display_data",
          "data": {
            "text/plain": [
              "<Figure size 432x288 with 1 Axes>"
            ],
            "image/png": "[encoded data removed]"
          },
          "metadata": {
            "needs_background": "light"
          }
        }
      ]
    },
    {
      "cell_type": "code",
      "source": [
        "# printing the performance statistics of all the classifiers in a table\n",
        "p_nclass1 = np.array(performance_measure(nl_train,nl_test, Classifier1)) \n",
        "p_nclass2 = np.array(performance_measure(nl_train,nl_test, Classifier2)) \n",
        "p_nclass3 = np.array(performance_measure(nl_train,nl_test, Classifier3)) \n",
        "p_nclass4 = np.array(performance_measure(nl_train,nl_test, Classifier4)) \n",
        "\n",
        "p_data_nl = np.array([p_nclass1, p_nclass2, p_nclass3, p_nclass4])\n",
        "column_values = ['Accuracy', 'Precision', 'Recall', 'F-score']\n",
        "index_values = ['Classifier_1', 'Classifier_2', 'Classifier_3', 'Classifier_4']\n",
        "performance_table_nl = pd.DataFrame(data = p_data_nl, \n",
        "                  index = index_values, \n",
        "                  columns = column_values)"
      ],
      "metadata": {
        "id": "3phBYIKLTWea"
      },
      "execution_count": null,
      "outputs": []
    },
    {
      "cell_type": "code",
      "source": [
        "performance_table_nl"
      ],
      "metadata": {
        "colab": {
          "base_uri": "https://localhost:8080/",
          "height": 175
        },
        "id": "sdLYuVVub_xt",
        "outputId": "9b751b0b-9d81-4b3b-afc9-f79b8ef80754"
      },
      "execution_count": null,
      "outputs": [
        {
          "output_type": "execute_result",
          "data": {
            "text/plain": [
              "              Accuracy  Precision    Recall   F-score\n",
              "Classifier_1  0.880000   0.822273  0.820000  0.820946\n",
              "Classifier_2  0.942222   0.913361  0.913333  0.913295\n",
              "Classifier_3  0.944000   0.915506  0.916000  0.915634\n",
              "Classifier_4  0.943111   0.914341  0.914667  0.914355"
            ],
            "text/html": [
              "\n",
              "  <div id=\"df-1db830da-10ae-40d4-8bba-1365319c5885\">\n",
              "    <div class=\"colab-df-container\">\n",
              "      <div>\n",
              "<style scoped>\n",
              "    .dataframe tbody tr th:only-of-type {\n",
              "        vertical-align: middle;\n",
              "    }\n",
              "\n",
              "    .dataframe tbody tr th {\n",
              "        vertical-align: top;\n",
              "    }\n",
              "\n",
              "    .dataframe thead th {\n",
              "        text-align: right;\n",
              "    }\n",
              "</style>\n",
              "<table border=\"1\" class=\"dataframe\">\n",
              "  <thead>\n",
              "    <tr style=\"text-align: right;\">\n",
              "      <th></th>\n",
              "      <th>Accuracy</th>\n",
              "      <th>Precision</th>\n",
              "      <th>Recall</th>\n",
              "      <th>F-score</th>\n",
              "    </tr>\n",
              "  </thead>\n",
              "  <tbody>\n",
              "    <tr>\n",
              "      <th>Classifier_1</th>\n",
              "      <td>0.880000</td>\n",
              "      <td>0.822273</td>\n",
              "      <td>0.820000</td>\n",
              "      <td>0.820946</td>\n",
              "    </tr>\n",
              "    <tr>\n",
              "      <th>Classifier_2</th>\n",
              "      <td>0.942222</td>\n",
              "      <td>0.913361</td>\n",
              "      <td>0.913333</td>\n",
              "      <td>0.913295</td>\n",
              "    </tr>\n",
              "    <tr>\n",
              "      <th>Classifier_3</th>\n",
              "      <td>0.944000</td>\n",
              "      <td>0.915506</td>\n",
              "      <td>0.916000</td>\n",
              "      <td>0.915634</td>\n",
              "    </tr>\n",
              "    <tr>\n",
              "      <th>Classifier_4</th>\n",
              "      <td>0.943111</td>\n",
              "      <td>0.914341</td>\n",
              "      <td>0.914667</td>\n",
              "      <td>0.914355</td>\n",
              "    </tr>\n",
              "  </tbody>\n",
              "</table>\n",
              "</div>\n",
              "      <button class=\"colab-df-convert\" onclick=\"convertToInteractive('df-1db830da-10ae-40d4-8bba-1365319c5885')\"\n",
              "              title=\"Convert this dataframe to an interactive table.\"\n",
              "              style=\"display:none;\">\n",
              "        \n",
              "  <svg xmlns=\"http://www.w3.org/2000/svg\" height=\"24px\"viewBox=\"0 0 24 24\"\n",
              "       width=\"24px\">\n",
              "    <path d=\"M0 0h24v24H0V0z\" fill=\"none\"/>\n",
              "    <path d=\"M18.56 5.44l.94 2.06.94-2.06 2.06-.94-2.06-.94-.94-2.06-.94 2.06-2.06.94zm-11 1L8.5 8.5l.94-2.06 2.06-.94-2.06-.94L8.5 2.5l-.94 2.06-2.06.94zm10 10l.94 2.06.94-2.06 2.06-.94-2.06-.94-.94-2.06-.94 2.06-2.06.94z\"/><path d=\"M17.41 7.96l-1.37-1.37c-.4-.4-.92-.59-1.43-.59-.52 0-1.04.2-1.43.59L10.3 9.45l-7.72 7.72c-.78.78-.78 2.05 0 2.83L4 21.41c.39.39.9.59 1.41.59.51 0 1.02-.2 1.41-.59l7.78-7.78 2.81-2.81c.8-.78.8-2.07 0-2.86zM5.41 20L4 18.59l7.72-7.72 1.47 1.35L5.41 20z\"/>\n",
              "  </svg>\n",
              "      </button>\n",
              "      \n",
              "  <style>\n",
              "    .colab-df-container {\n",
              "      display:flex;\n",
              "      flex-wrap:wrap;\n",
              "      gap: 12px;\n",
              "    }\n",
              "\n",
              "    .colab-df-convert {\n",
              "      background-color: #E8F0FE;\n",
              "      border: none;\n",
              "      border-radius: 50%;\n",
              "      cursor: pointer;\n",
              "      display: none;\n",
              "      fill: #1967D2;\n",
              "      height: 32px;\n",
              "      padding: 0 0 0 0;\n",
              "      width: 32px;\n",
              "    }\n",
              "\n",
              "    .colab-df-convert:hover {\n",
              "      background-color: #E2EBFA;\n",
              "      box-shadow: 0px 1px 2px rgba(60, 64, 67, 0.3), 0px 1px 3px 1px rgba(60, 64, 67, 0.15);\n",
              "      fill: #174EA6;\n",
              "    }\n",
              "\n",
              "    [theme=dark] .colab-df-convert {\n",
              "      background-color: #3B4455;\n",
              "      fill: #D2E3FC;\n",
              "    }\n",
              "\n",
              "    [theme=dark] .colab-df-convert:hover {\n",
              "      background-color: #434B5C;\n",
              "      box-shadow: 0px 1px 3px 1px rgba(0, 0, 0, 0.15);\n",
              "      filter: drop-shadow(0px 1px 2px rgba(0, 0, 0, 0.3));\n",
              "      fill: #FFFFFF;\n",
              "    }\n",
              "  </style>\n",
              "\n",
              "      <script>\n",
              "        const buttonEl =\n",
              "          document.querySelector('#df-1db830da-10ae-40d4-8bba-1365319c5885 button.colab-df-convert');\n",
              "        buttonEl.style.display =\n",
              "          google.colab.kernel.accessAllowed ? 'block' : 'none';\n",
              "\n",
              "        async function convertToInteractive(key) {\n",
              "          const element = document.querySelector('#df-1db830da-10ae-40d4-8bba-1365319c5885');\n",
              "          const dataTable =\n",
              "            await google.colab.kernel.invokeFunction('convertToInteractive',\n",
              "                                                     [key], {});\n",
              "          if (!dataTable) return;\n",
              "\n",
              "          const docLinkHtml = 'Like what you see? Visit the ' +\n",
              "            '<a target=\"_blank\" href=https://colab.research.google.com/notebooks/data_table.ipynb>data table notebook</a>'\n",
              "            + ' to learn more about interactive tables.';\n",
              "          element.innerHTML = '';\n",
              "          dataTable['output_type'] = 'display_data';\n",
              "          await google.colab.output.renderOutput(dataTable, element);\n",
              "          const docLink = document.createElement('div');\n",
              "          docLink.innerHTML = docLinkHtml;\n",
              "          element.appendChild(docLink);\n",
              "        }\n",
              "      </script>\n",
              "    </div>\n",
              "  </div>\n",
              "  "
            ]
          },
          "metadata": {},
          "execution_count": 54
        }
      ]
    },
    {
      "cell_type": "code",
      "source": [
        "# summary of input parameter for model building for each classifier\n",
        "sum_classifier(nl_train, nl_test, 1)"
      ],
      "metadata": {
        "id": "6IfaAWoUcFWt",
        "colab": {
          "base_uri": "https://localhost:8080/"
        },
        "outputId": "6c0593cf-be4d-48c6-9063-6cc0f2b60cb3"
      },
      "execution_count": null,
      "outputs": [
        {
          "output_type": "stream",
          "name": "stdout",
          "text": [
            "# Mean Summary for Classifier 1\n",
            "        mean_attr1  mean_attr2\n",
            "Class1    1.223598    0.543296\n",
            "Class2   -0.474108   -0.833736\n",
            "Class3    3.025892   -0.833736\n",
            "\n",
            "# Covariance Matrix used for classifier 1\n",
            "\n",
            "\n",
            "For Class 1\n",
            "[[0.53988366 0.        ]\n",
            " [0.         0.53988366]]\n",
            "\n",
            "For Class 2\n",
            "[[0.53988366 0.        ]\n",
            " [0.         0.53988366]]\n",
            "\n",
            "For Class 3\n",
            "[[0.53988366 0.        ]\n",
            " [0.         0.53988366]]\n"
          ]
        }
      ]
    },
    {
      "cell_type": "code",
      "source": [
        "sum_classifier(nl_train, nl_test, 2)"
      ],
      "metadata": {
        "colab": {
          "base_uri": "https://localhost:8080/"
        },
        "id": "Zk803AQJiZ02",
        "outputId": "cfb61fb1-f75b-4f6c-f079-5d7765b04f38"
      },
      "execution_count": null,
      "outputs": [
        {
          "output_type": "stream",
          "name": "stdout",
          "text": [
            "# Mean Summary for Classifier 2\n",
            "        mean_attr1  mean_attr2\n",
            "Class1    1.223598    0.543296\n",
            "Class2   -0.474108   -0.833736\n",
            "Class3    3.025892   -0.833736\n",
            "\n",
            "# Covariance Matrix used for classifier 2\n",
            "\n",
            "\n",
            "For Class 1\n",
            "[[0.90199944 0.01500936]\n",
            " [0.01500936 0.17776788]]\n",
            "\n",
            "For Class 2\n",
            "[[0.90199944 0.01500936]\n",
            " [0.01500936 0.17776788]]\n",
            "\n",
            "For Class 3\n",
            "[[0.90199944 0.01500936]\n",
            " [0.01500936 0.17776788]]\n"
          ]
        }
      ]
    },
    {
      "cell_type": "code",
      "source": [
        "sum_classifier(nl_train, nl_test, 3)"
      ],
      "metadata": {
        "id": "t45VE2mfikM_",
        "outputId": "c748bead-c569-48e9-c3f3-df69135dc7f7",
        "colab": {
          "base_uri": "https://localhost:8080/"
        }
      },
      "execution_count": null,
      "outputs": [
        {
          "output_type": "stream",
          "name": "stdout",
          "text": [
            "# Mean Summary for Classifier 3\n",
            "        mean_attr1  mean_attr2\n",
            "Class1    1.223598    0.543296\n",
            "Class2   -0.474108   -0.833736\n",
            "Class3    3.025892   -0.833736\n",
            "\n",
            "# Covariance Matrix used for classifier 3\n",
            "\n",
            "\n",
            "For Class 1\n",
            "[[0.90863983 0.        ]\n",
            " [0.         0.1530274 ]]\n",
            "\n",
            "For Class 2\n",
            "[[0.89867924 0.        ]\n",
            " [0.         0.19013813]]\n",
            "\n",
            "For Class 3\n",
            "[[0.89867924 0.        ]\n",
            " [0.         0.19013813]]\n"
          ]
        }
      ]
    },
    {
      "cell_type": "code",
      "source": [
        "sum_classifier(nl_train, nl_test, 4)"
      ],
      "metadata": {
        "id": "tVGJOXOCim4j",
        "outputId": "b33c270c-d1fb-4e41-f321-498429e3b4c4",
        "colab": {
          "base_uri": "https://localhost:8080/"
        }
      },
      "execution_count": null,
      "outputs": [
        {
          "output_type": "stream",
          "name": "stdout",
          "text": [
            "# Mean Summary for Classifier 4\n",
            "        mean_attr1  mean_attr2\n",
            "Class1    1.223598    0.543296\n",
            "Class2   -0.474108   -0.833736\n",
            "Class3    3.025892   -0.833736\n",
            "\n",
            "# Covariance Matrix used for classifier 4\n",
            "\n",
            "\n",
            "For Class 1\n",
            "[[ 0.90863983 -0.02090378]\n",
            " [-0.02090378  0.1530274 ]]\n",
            "\n",
            "For Class 2\n",
            "[[0.89867924 0.03296593]\n",
            " [0.03296593 0.19013813]]\n",
            "\n",
            "For Class 3\n",
            "[[0.89867924 0.03296593]\n",
            " [0.03296593 0.19013813]]\n"
          ]
        }
      ]
    },
    {
      "cell_type": "code",
      "source": [],
      "metadata": {
        "id": "0Dmk4kJdipJg"
      },
      "execution_count": null,
      "outputs": []
    }
  ],
  "metadata": {
    "colab": {
      "collapsed_sections": [],
      "provenance": []
    },
    "kernelspec": {
      "display_name": "Python 3",
      "name": "python3"
    },
    "language_info": {
      "name": "python"
    }
  },
  "nbformat": 4,
  "nbformat_minor": 0
}